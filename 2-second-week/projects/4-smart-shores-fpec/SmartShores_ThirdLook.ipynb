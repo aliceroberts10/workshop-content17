{
 "cells": [
  {
   "cell_type": "markdown",
   "metadata": {},
   "source": [
    "# Import packages"
   ]
  },
  {
   "cell_type": "code",
   "execution_count": null,
   "metadata": {
    "collapsed": true
   },
   "outputs": [],
   "source": [
    "import pandas as pd\n",
    "import numpy as np\n",
    "import matplotlib.pyplot as plt\n",
    "from sklearn.preprocessing import StandardScaler\n",
    "\n",
    "%matplotlib inline"
   ]
  },
  {
   "cell_type": "markdown",
   "metadata": {},
   "source": [
    "# Read data\n",
    "\n",
    "Read in the first 20 000 rows and see if this gives us an idea. "
   ]
  },
  {
   "cell_type": "code",
   "execution_count": null,
   "metadata": {
    "collapsed": true
   },
   "outputs": [],
   "source": [
    "skip = 20000\n",
    "nrows = 20000\n",
    "data = pd.read_csv('~/data/4-Vadeboncoeur/davis-bay.txt',sep=\" \", header=None, nrows=nrows, skiprows=skip)\n",
    "datav = data.values"
   ]
  },
  {
   "cell_type": "code",
   "execution_count": null,
   "metadata": {
    "collapsed": true
   },
   "outputs": [],
   "source": [
    "column_names = ['lon', 'lat', 'z', 'r', 'g', 'b', 'thetax', 'thetay', 'phi']\n",
    "data.columns = column_names"
   ]
  },
  {
   "cell_type": "code",
   "execution_count": null,
   "metadata": {
    "collapsed": true
   },
   "outputs": [],
   "source": [
    "data.shape"
   ]
  },
  {
   "cell_type": "code",
   "execution_count": null,
   "metadata": {
    "collapsed": true
   },
   "outputs": [],
   "source": [
    "data.head()"
   ]
  },
  {
   "cell_type": "code",
   "execution_count": null,
   "metadata": {
    "collapsed": true
   },
   "outputs": [],
   "source": [
    "data.describe().transpose()"
   ]
  },
  {
   "cell_type": "markdown",
   "metadata": {},
   "source": [
    "# Plot the data\n",
    "\n",
    "After first normalizing the data"
   ]
  },
  {
   "cell_type": "code",
   "execution_count": null,
   "metadata": {
    "collapsed": true
   },
   "outputs": [],
   "source": [
    "scaler = StandardScaler()\n",
    "lon_lat_z_ = scaler.fit_transform(data[['lon', 'lat', 'z']].values)\n",
    "angles = data[['thetax', 'thetay', 'phi']].values\n",
    "\n",
    "rgb = data.loc[:, ['r','g','b']].values\n",
    "rgb_01 = rgb/255"
   ]
  },
  {
   "cell_type": "markdown",
   "metadata": {},
   "source": [
    "## lat-lon plots"
   ]
  },
  {
   "cell_type": "code",
   "execution_count": null,
   "metadata": {
    "collapsed": true
   },
   "outputs": [],
   "source": [
    "plt.figure(figsize=(20, 10))\n",
    "plt.scatter(lon_lat_z_[:, 0], lon_lat_z_[:, 1], rgb_01)"
   ]
  },
  {
   "cell_type": "code",
   "execution_count": null,
   "metadata": {},
   "outputs": [],
   "source": [
    "def hist3d(arr, **kwargs):\n",
    "    \"\"\"\n",
    "    arr is a 3D array\n",
    "    \"\"\"\n",
    "    nbins = kwargs.get('nbins', 50)\n",
    "    th = kwargs.get('threshold', .01)\n",
    "    figsize = kwargs.get('figsize', (10,8))\n",
    "    elev = kwargs.get('elev', 45)\n",
    "    azim = kwargs.get('azim', 30)\n",
    "    cmap = kwargs.get('cmap', 'viridis')\n",
    "    s = kwargs.get('s', 3)\n",
    "\n",
    "    H, edges = np.histogramdd(angles, bins=nbins)\n",
    "    edges = np.vstack(edges).T\n",
    "    edges = .5 * (edges[1:,:] + edges[:-1,:])\n",
    "    edges.shape\n",
    "\n",
    "    x = []\n",
    "    y = []\n",
    "    z = []\n",
    "    c = []\n",
    "\n",
    "    for j in range(nbins):\n",
    "        for k in range(nbins):\n",
    "            for l in range(nbins):\n",
    "                v = H[j,k,l]\n",
    "                if v < th:\n",
    "                    continue\n",
    "                else:\n",
    "                    x.append(edges[j,0])\n",
    "                    y.append(edges[k,1])\n",
    "                    z.append(edges[l,2])\n",
    "                    c.append(v)\n",
    "    from mpl_toolkits.mplot3d import Axes3D\n",
    "    fig = plt.figure(figsize=figsize)\n",
    "    ax = fig.add_subplot(111, projection='3d')\n",
    "    ax.view_init(elev, azim)\n",
    "    im = ax.scatter(x, y, z, zdir='z', c=np.log(c), s=s, cmap=cmap);\n",
    "    plt.colorbar(im);\n",
    "    return\n",
    "\n",
    "    "
   ]
  },
  {
   "cell_type": "code",
   "execution_count": null,
   "metadata": {},
   "outputs": [],
   "source": [
    "hist3d(angles)"
   ]
  },
  {
   "cell_type": "markdown",
   "metadata": {},
   "source": [
    "Indeed! But what could they correspond to? \n",
    "\n",
    "**Note:** For curiosity's sake, a 3D histogram can be seen in a scatter plot in a [gist, here](https://gist.github.com/asberk/ad5966e89c1a5cd85ad9e8975f617b1b)."
   ]
  },
  {
   "cell_type": "markdown",
   "metadata": {},
   "source": [
    "**For visualizing point cloud data and differences between point clouds: search for \"cloud compare\"**"
   ]
  }
 ],
 "metadata": {
  "kernelspec": {
   "display_name": "Python 3",
   "language": "python",
   "name": "python3"
  },
  "language_info": {
   "codemirror_mode": {
    "name": "ipython",
    "version": 3
   },
   "file_extension": ".py",
   "mimetype": "text/x-python",
   "name": "python",
   "nbconvert_exporter": "python",
   "pygments_lexer": "ipython3",
   "version": "3.6.1"
  }
 },
 "nbformat": 4,
 "nbformat_minor": 2
}
