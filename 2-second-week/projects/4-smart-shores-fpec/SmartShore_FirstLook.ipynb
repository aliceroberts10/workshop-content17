{
 "cells": [
  {
   "cell_type": "markdown",
   "metadata": {},
   "source": [
    "# First Look at the SmartShore data"
   ]
  },
  {
   "cell_type": "markdown",
   "metadata": {},
   "source": [
    "## Usual group of package imports"
   ]
  },
  {
   "cell_type": "code",
   "execution_count": null,
   "metadata": {
    "collapsed": true
   },
   "outputs": [],
   "source": [
    "import pandas as pd\n",
    "import numpy as np\n",
    "import matplotlib.pyplot as plt\n",
    "\n",
    "%matplotlib inline"
   ]
  },
  {
   "cell_type": "markdown",
   "metadata": {},
   "source": [
    "## Tiff files are graphics files so I had a look\n",
    "\n",
    "#### I'll show you: Looks like Davis Bay to me"
   ]
  },
  {
   "cell_type": "markdown",
   "metadata": {},
   "source": [
    "## But what's in the unlabelled data txt file? "
   ]
  },
  {
   "cell_type": "markdown",
   "metadata": {},
   "source": [
    "## I looked at the data in bash with the tools Roger showed us on Thursday\n",
    "\n",
    "#### The python instance crashed when I loaded up the whole data so I used more bash tools to prepare a subset with a header\n",
    "\n",
    "#### I will show you what I did"
   ]
  },
  {
   "cell_type": "code",
   "execution_count": null,
   "metadata": {},
   "outputs": [],
   "source": [
    "data = pd.read_csv('~/var/small.txt',sep=\" \")\n",
    "datav = data.values\n",
    "print(datav) # luckily it is smart enough not to print out everything"
   ]
  },
  {
   "cell_type": "markdown",
   "metadata": {},
   "source": [
    "## I was pretty sure that the first three columns were XYZ position data"
   ]
  },
  {
   "cell_type": "markdown",
   "metadata": {},
   "source": [
    "#### Let's check out and see if that seems reasonable (well, I am only showing you because I think it is)\n",
    "\n",
    "**Plotting things out like Isabell showed us**"
   ]
  },
  {
   "cell_type": "code",
   "execution_count": null,
   "metadata": {},
   "outputs": [],
   "source": [
    "X = datav[:, 0]\n",
    "Y = datav[:, 1]\n",
    "Xrel = X - X[0]\n",
    "scale = np.max(np.abs(Xrel))\n",
    "Xrel = Xrel/scale\n",
    "Yrel = (Y - Y[0])/scale\n",
    "N = X.size\n",
    "print('N:',N,' scale:',scale)\n",
    "colours = np.arange(N)"
   ]
  },
  {
   "cell_type": "code",
   "execution_count": null,
   "metadata": {
    "scrolled": true
   },
   "outputs": [],
   "source": [
    "plt.plot(colours, Xrel)\n",
    "plt.xlabel(\"Data #\")\n",
    "plt.ylabel(\"scaled X\")\n",
    "plt.show()"
   ]
  },
  {
   "cell_type": "code",
   "execution_count": null,
   "metadata": {},
   "outputs": [],
   "source": [
    "plt.plot(colours, Yrel)\n",
    "plt.xlabel(\"Data #\")\n",
    "plt.ylabel(\"scaled Y\")\n",
    "plt.show()"
   ]
  },
  {
   "cell_type": "code",
   "execution_count": null,
   "metadata": {
    "scrolled": false
   },
   "outputs": [],
   "source": [
    "plt.scatter(Xrel, Yrel, c=colours, alpha=0.05, cmap=\"inferno\")\n",
    "plt.xlabel('Scaled X')\n",
    "plt.ylabel('Scaled Y')\n",
    "plt.show()"
   ]
  },
  {
   "cell_type": "markdown",
   "metadata": {},
   "source": [
    "** Oh, longitude and latitude, d'oh! **"
   ]
  },
  {
   "cell_type": "code",
   "execution_count": null,
   "metadata": {},
   "outputs": [],
   "source": [
    "print(X[0], Y[0])"
   ]
  },
  {
   "cell_type": "markdown",
   "metadata": {},
   "source": [
    "#### What about Z?"
   ]
  },
  {
   "cell_type": "code",
   "execution_count": null,
   "metadata": {},
   "outputs": [],
   "source": [
    "Z = datav[:, 2]\n",
    "plt.plot(colours, Z) # not scaled\n",
    "plt.xlabel(\"Data #\")\n",
    "plt.ylabel(\"Z\")\n",
    "plt.show()"
   ]
  },
  {
   "cell_type": "code",
   "execution_count": null,
   "metadata": {},
   "outputs": [],
   "source": [
    "plt.plot(colours[1000:2000], Z[1000:2000])\n",
    "plt.xlabel(\"Data #\")\n",
    "plt.ylabel(\"Z\")\n",
    "plt.show()"
   ]
  },
  {
   "cell_type": "markdown",
   "metadata": {},
   "source": [
    "**Hmm...**"
   ]
  },
  {
   "cell_type": "markdown",
   "metadata": {},
   "source": [
    "## I think the next three columns are colour?\n",
    "\n",
    "## What about the final three columns?"
   ]
  },
  {
   "cell_type": "markdown",
   "metadata": {},
   "source": [
    "#### Plausible that XYZ are the positions of the drone and U1, U2, U3 are offsets from that to point clouds?"
   ]
  },
  {
   "cell_type": "code",
   "execution_count": null,
   "metadata": {
    "scrolled": true
   },
   "outputs": [],
   "source": [
    "U1 = datav[:, 6]\n",
    "U2 = datav[:, 7]\n",
    "U3 = datav[:, 8]\n",
    "\n",
    "fig = plt.figure(figsize=(17,5))\n",
    "\n",
    "ax1=fig.add_subplot(1,3,1)\n",
    "ax1.plot(colours,U1)\n",
    "ax1.set_xlabel('Data #')\n",
    "ax1.set_ylabel('U1')\n",
    "\n",
    "ax1=fig.add_subplot(1,3,2)\n",
    "ax1.plot(colours,U2)\n",
    "ax1.set_xlabel('Data #')\n",
    "ax1.set_ylabel('U2')\n",
    "\n",
    "ax1=fig.add_subplot(1,3,3)\n",
    "ax1.plot(colours,U3)\n",
    "ax1.set_xlabel('Data #')\n",
    "ax1.set_ylabel('U3')\n",
    "\n",
    "\n",
    "plt.show()"
   ]
  },
  {
   "cell_type": "markdown",
   "metadata": {},
   "source": [
    "** Angles? **"
   ]
  },
  {
   "cell_type": "code",
   "execution_count": null,
   "metadata": {},
   "outputs": [],
   "source": [
    "N1 = 500000\n",
    "N2 = 500100\n",
    "\n",
    "fig = plt.figure(figsize=(17,5))\n",
    "\n",
    "ax1=fig.add_subplot(1,3,1)\n",
    "ax1.plot(colours[N1:N2],U1[N1:N2])\n",
    "ax1.set_xlabel('Data #')\n",
    "ax1.set_ylabel('U1')\n",
    "\n",
    "ax1=fig.add_subplot(1,3,2)\n",
    "ax1.plot(colours[N1:N2],U2[N1:N2])\n",
    "ax1.set_xlabel('Data #')\n",
    "ax1.set_ylabel('U2')\n",
    "\n",
    "ax1=fig.add_subplot(1,3,3)\n",
    "ax1.plot(colours[N1:N2],U3[N1:N2])\n",
    "ax1.set_xlabel('Data #')\n",
    "ax1.set_ylabel('U3')\n",
    "\n",
    "\n",
    "plt.show()"
   ]
  },
  {
   "cell_type": "code",
   "execution_count": null,
   "metadata": {
    "collapsed": true
   },
   "outputs": [],
   "source": []
  }
 ],
 "metadata": {
  "kernelspec": {
   "display_name": "Python 3",
   "language": "python",
   "name": "python3"
  },
  "language_info": {
   "codemirror_mode": {
    "name": "ipython",
    "version": 3
   },
   "file_extension": ".py",
   "mimetype": "text/x-python",
   "name": "python",
   "nbconvert_exporter": "python",
   "pygments_lexer": "ipython3",
   "version": "3.6.1"
  }
 },
 "nbformat": 4,
 "nbformat_minor": 2
}
